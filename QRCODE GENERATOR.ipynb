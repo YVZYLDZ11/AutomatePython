{
 "cells": [
  {
   "cell_type": "code",
   "execution_count": 4,
   "id": "b22e47e8",
   "metadata": {},
   "outputs": [],
   "source": [
    "import pyqrcode\n",
    "from pyqrcode import QRCode"
   ]
  },
  {
   "cell_type": "code",
   "execution_count": 5,
   "id": "b1873a47",
   "metadata": {},
   "outputs": [],
   "source": [
    "a = \"https://www.linkedin.com/in/yavuzyildizyz/\"\n",
    "url = pyqrcode.create(a)\n",
    "url.svg(\"mylinkedin.svg\", scale = 8)"
   ]
  },
  {
   "cell_type": "code",
   "execution_count": null,
   "id": "6e8709ab",
   "metadata": {},
   "outputs": [],
   "source": []
  }
 ],
 "metadata": {
  "kernelspec": {
   "display_name": "Python 3 (ipykernel)",
   "language": "python",
   "name": "python3"
  },
  "language_info": {
   "codemirror_mode": {
    "name": "ipython",
    "version": 3
   },
   "file_extension": ".py",
   "mimetype": "text/x-python",
   "name": "python",
   "nbconvert_exporter": "python",
   "pygments_lexer": "ipython3",
   "version": "3.9.12"
  }
 },
 "nbformat": 4,
 "nbformat_minor": 5
}
