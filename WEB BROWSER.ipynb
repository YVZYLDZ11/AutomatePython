{
 "cells": [
  {
   "cell_type": "code",
   "execution_count": 1,
   "id": "d29f1273",
   "metadata": {},
   "outputs": [],
   "source": [
    "from PyQt5.QtCore import *\n",
    "from PyQt5.QtWidgets import *\n",
    "from PyQt5.QtGui import *\n",
    "from PyQt5.QtWebEngineWidgets import *\n",
    "import sys"
   ]
  },
  {
   "cell_type": "code",
   "execution_count": 2,
   "id": "c5ab873d",
   "metadata": {},
   "outputs": [
    {
     "data": {
      "text/plain": [
       "0"
      ]
     },
     "execution_count": 2,
     "metadata": {},
     "output_type": "execute_result"
    }
   ],
   "source": [
    "class MainWindow(QMainWindow):\n",
    "    def __init__(self, *args, **kwargs):\n",
    "        super(MainWindow, self).__init__(*args, **kwargs)\n",
    "        \n",
    "        self.setGeometry(QRect(0,0,1200,800))\n",
    "        self.setWindowTitle(\"My Browser\")\n",
    "        \n",
    "        self.toolbar = QToolBar()\n",
    "        self.addToolBar(self.toolbar)\n",
    "        \n",
    "        self.browser = QWebEngineView()\n",
    "        self.browser.setUrl(QUrl(\"https://www.opera.com\"))\n",
    "        \n",
    "        self.urlbar = QLineEdit()\n",
    "        self.urlbar.returnPressed.connect(self.navigate_to_url)\n",
    "        \n",
    "        self.back_button = QAction(\"Back\", self)\n",
    "        self.back_button.setStatusTip(\"Back to previous page\")\n",
    "        self.back_button.triggered.connect(self.browser.back)\n",
    "        self.toolbar.addAction(self.back_button)\n",
    "        \n",
    "        self.setCentralWidget(self.browser)\n",
    "        self.addToolBar(Qt.BottomToolBarArea, QToolBar(\"Navigation\"))\n",
    "        self.toolbar.addWidget(self.urlbar)\n",
    "        \n",
    "        self.go_button = QAction(\"Go\", self)\n",
    "        self.go_button.setStatusTip(\"Got to a web page\")\n",
    "        self.go_button.triggered.connect(self.navigate_to_url)\n",
    "        self.toolbar.addAction(self.go_button)\n",
    "        \n",
    "        self.show()\n",
    "    def navigate_to_url(self):\n",
    "        q = self.urlbar.text()\n",
    "        if q.startswith(\"https://\"):\n",
    "            url = q\n",
    "        else:\n",
    "            url = \"https://\" + q\n",
    "        self.browser.setUrl(QUrl(url))\n",
    "\n",
    "        \n",
    "app = QApplication(sys.argv)\n",
    "window = MainWindow()\n",
    "\n",
    "app.exec_()"
   ]
  },
  {
   "cell_type": "code",
   "execution_count": null,
   "id": "78811cf6",
   "metadata": {},
   "outputs": [],
   "source": []
  }
 ],
 "metadata": {
  "kernelspec": {
   "display_name": "Python 3 (ipykernel)",
   "language": "python",
   "name": "python3"
  },
  "language_info": {
   "codemirror_mode": {
    "name": "ipython",
    "version": 3
   },
   "file_extension": ".py",
   "mimetype": "text/x-python",
   "name": "python",
   "nbconvert_exporter": "python",
   "pygments_lexer": "ipython3",
   "version": "3.9.12"
  }
 },
 "nbformat": 4,
 "nbformat_minor": 5
}
