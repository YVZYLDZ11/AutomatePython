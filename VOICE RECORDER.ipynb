{
 "cells": [
  {
   "cell_type": "code",
   "execution_count": 2,
   "id": "1b904a11",
   "metadata": {},
   "outputs": [],
   "source": [
    "import sounddevice\n",
    "from scipy.io.wavfile import write"
   ]
  },
  {
   "cell_type": "code",
   "execution_count": 4,
   "id": "616df30c",
   "metadata": {},
   "outputs": [
    {
     "name": "stdout",
     "output_type": "stream",
     "text": [
      "Recording Started…\n",
      "Recording Finished\n"
     ]
    }
   ],
   "source": [
    "def voice_recorder(seconds, file):\n",
    "    print(\"Recording Started…\")\n",
    "    recording = sounddevice.rec((seconds * 44100), samplerate= 44100, channels=2)\n",
    "    sounddevice.wait()\n",
    "    write(file, 44100, recording)\n",
    "    print(\"Recording Finished\")\n",
    "\n",
    "voice_recorder(10, \"record.wav\")"
   ]
  },
  {
   "cell_type": "code",
   "execution_count": null,
   "id": "5444e06f",
   "metadata": {},
   "outputs": [],
   "source": []
  }
 ],
 "metadata": {
  "kernelspec": {
   "display_name": "Python 3 (ipykernel)",
   "language": "python",
   "name": "python3"
  },
  "language_info": {
   "codemirror_mode": {
    "name": "ipython",
    "version": 3
   },
   "file_extension": ".py",
   "mimetype": "text/x-python",
   "name": "python",
   "nbconvert_exporter": "python",
   "pygments_lexer": "ipython3",
   "version": "3.9.12"
  }
 },
 "nbformat": 4,
 "nbformat_minor": 5
}
