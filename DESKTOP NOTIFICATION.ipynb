{
 "cells": [
  {
   "cell_type": "code",
   "execution_count": 2,
   "id": "6890749d",
   "metadata": {},
   "outputs": [],
   "source": [
    "import time\n",
    "from plyer import notification"
   ]
  },
  {
   "cell_type": "code",
   "execution_count": null,
   "id": "5ede2573",
   "metadata": {},
   "outputs": [],
   "source": [
    "if __name__ == \"__main__\":\n",
    "    while True:\n",
    "        notification.notify(\n",
    "            title = \"ALERT!!!\",\n",
    "            message = \"Take a break! It has been an hour!\",\n",
    "            timeout = 10\n",
    "        )\n",
    "        time.sleep(3600)"
   ]
  },
  {
   "cell_type": "code",
   "execution_count": null,
   "id": "6cfe32bf",
   "metadata": {},
   "outputs": [],
   "source": []
  }
 ],
 "metadata": {
  "kernelspec": {
   "display_name": "Python 3 (ipykernel)",
   "language": "python",
   "name": "python3"
  },
  "language_info": {
   "codemirror_mode": {
    "name": "ipython",
    "version": 3
   },
   "file_extension": ".py",
   "mimetype": "text/x-python",
   "name": "python",
   "nbconvert_exporter": "python",
   "pygments_lexer": "ipython3",
   "version": "3.9.12"
  }
 },
 "nbformat": 4,
 "nbformat_minor": 5
}
