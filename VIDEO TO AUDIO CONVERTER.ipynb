{
 "cells": [
  {
   "cell_type": "code",
   "execution_count": 2,
   "id": "9bc3332c",
   "metadata": {},
   "outputs": [
    {
     "name": "stdout",
     "output_type": "stream",
     "text": [
      "Enter YouTube video URL: https://www.youtube.com/watch?v=5D_A4IBWSv4&ab_channel=AlvaroSolerVEVO\n"
     ]
    }
   ],
   "source": [
    "from pytube import YouTube\n",
    "import pytube\n",
    "import os\n",
    "\n",
    "def main():\n",
    "    video_url = input('Enter YouTube video URL: ')\n",
    "\n",
    "    if os.name == 'nt':\n",
    "        path = os.getcwd() + '\\\\'\n",
    "    else:\n",
    "        path = os.getcwd() + '/'\n",
    "\n",
    "    name = pytube.extract.video_id(video_url)\n",
    "    YouTube(video_url).streams.filter(only_audio=True).first().download(filename=name)\n",
    "    location = path + name + '.mp4'\n",
    "    renametomp3 = path + name + '.mp3'\n",
    "\n",
    "    if os.name == 'nt':\n",
    "        os.system('ren {0} {1}'. format(location, renametomp3))\n",
    "    else:\n",
    "        os.system('mv {0} {1}'. format(location, renametomp3))\n",
    "    \n",
    "if __name__ == '__main__':\n",
    "    main()"
   ]
  },
  {
   "cell_type": "code",
   "execution_count": null,
   "id": "75e69582",
   "metadata": {},
   "outputs": [],
   "source": []
  }
 ],
 "metadata": {
  "kernelspec": {
   "display_name": "Python 3 (ipykernel)",
   "language": "python",
   "name": "python3"
  },
  "language_info": {
   "codemirror_mode": {
    "name": "ipython",
    "version": 3
   },
   "file_extension": ".py",
   "mimetype": "text/x-python",
   "name": "python",
   "nbconvert_exporter": "python",
   "pygments_lexer": "ipython3",
   "version": "3.9.12"
  }
 },
 "nbformat": 4,
 "nbformat_minor": 5
}
