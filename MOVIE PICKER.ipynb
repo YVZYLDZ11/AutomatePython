{
 "cells": [
  {
   "cell_type": "code",
   "execution_count": 1,
   "id": "ca8e68c2",
   "metadata": {},
   "outputs": [
    {
     "name": "stdout",
     "output_type": "stream",
     "text": [
      "American History X (1998), Rating: 8.5, Starring: Tony Kaye (dir.), Edward Norton, Edward Furlong\n",
      "Do you want another movie (y/[n])? y\n",
      "The Lives of Others (2006), Rating: 8.4, Starring: Florian Henckel von Donnersmarck (dir.), Ulrich Mühe, Martina Gedeck\n",
      "Do you want another movie (y/[n])? y\n",
      "Raiders of the Lost Ark (1981), Rating: 8.4, Starring: Steven Spielberg (dir.), Harrison Ford, Karen Allen\n",
      "Do you want another movie (y/[n])? y\n",
      "Memento (2000), Rating: 8.4, Starring: Christopher Nolan (dir.), Guy Pearce, Carrie-Anne Moss\n",
      "Do you want another movie (y/[n])? y\n",
      "Gran Torino (2008), Rating: 8.1, Starring: Clint Eastwood (dir.), Clint Eastwood, Bee Vang\n",
      "Do you want another movie (y/[n])? y\n",
      "Jodaeiye Nader az Simin (2011), Rating: 8.2, Starring: Asghar Farhadi (dir.), Payman Maadi, Leila Hatami\n",
      "Do you want another movie (y/[n])? y\n",
      "The Help (2011), Rating: 8.0, Starring: Tate Taylor (dir.), Emma Stone, Viola Davis\n",
      "Do you want another movie (y/[n])? n\n"
     ]
    }
   ],
   "source": [
    "import random\n",
    "import requests\n",
    "from bs4 import BeautifulSoup\n",
    "\n",
    "# crawl IMDB Top 250 and randomly select a movie\n",
    "\n",
    "URL = 'http://www.imdb.com/chart/top'\n",
    "\n",
    "def main():\n",
    "    response = requests.get(URL)\n",
    "\n",
    "    soup = BeautifulSoup(response.text, 'html.parser')\n",
    "    #soup = BeautifulSoup(response.text, 'lxml') # faster\n",
    "\n",
    "    # print(soup.prettify())\n",
    "\n",
    "    movietags = soup.select('td.titleColumn')\n",
    "    inner_movietags = soup.select('td.titleColumn a')\n",
    "    ratingtags = soup.select('td.posterColumn span[name=ir]')\n",
    "\n",
    "    def get_year(movie_tag):\n",
    "        moviesplit = movie_tag.text.split()\n",
    "        year = moviesplit[-1] # last item \n",
    "        return year\n",
    "\n",
    "    years = [get_year(tag) for tag in movietags]\n",
    "    actors_list =[tag['title'] for tag in inner_movietags] # access attribute 'title'\n",
    "    titles = [tag.text for tag in inner_movietags]\n",
    "    ratings = [float(tag['data-value']) for tag in ratingtags] # access attribute 'data-value'\n",
    "\n",
    "    n_movies = len(titles)\n",
    "\n",
    "    while(True):\n",
    "        idx = random.randrange(0, n_movies)\n",
    "        \n",
    "        print(f'{titles[idx]} {years[idx]}, Rating: {ratings[idx]:.1f}, Starring: {actors_list[idx]}')\n",
    "\n",
    "        user_input = input('Do you want another movie (y/[n])? ')\n",
    "        if user_input != 'y':\n",
    "            break\n",
    "    \n",
    "\n",
    "if __name__ == '__main__':\n",
    "    main()"
   ]
  },
  {
   "cell_type": "code",
   "execution_count": null,
   "id": "42da6c4c",
   "metadata": {},
   "outputs": [],
   "source": []
  }
 ],
 "metadata": {
  "kernelspec": {
   "display_name": "Python 3 (ipykernel)",
   "language": "python",
   "name": "python3"
  },
  "language_info": {
   "codemirror_mode": {
    "name": "ipython",
    "version": 3
   },
   "file_extension": ".py",
   "mimetype": "text/x-python",
   "name": "python",
   "nbconvert_exporter": "python",
   "pygments_lexer": "ipython3",
   "version": "3.9.12"
  }
 },
 "nbformat": 4,
 "nbformat_minor": 5
}
