{
 "cells": [
  {
   "cell_type": "code",
   "execution_count": 8,
   "id": "c6f4ceef",
   "metadata": {},
   "outputs": [],
   "source": [
    "from kivy.app import App\n",
    "from kivy.uix.button import Button\n",
    "from kivy.uix.boxlayout import BoxLayout\n",
    "from kivy.uix.gridlayout import GridLayout\n",
    "from kivy.uix.label import Label"
   ]
  },
  {
   "cell_type": "code",
   "execution_count": 9,
   "id": "55a8ee94",
   "metadata": {},
   "outputs": [
    {
     "ename": "AttributeError",
     "evalue": "'WM_PenProvider' object has no attribute 'hwnd'",
     "output_type": "error",
     "traceback": [
      "\u001b[1;31m---------------------------------------------------------------------------\u001b[0m",
      "\u001b[1;31mAttributeError\u001b[0m                            Traceback (most recent call last)",
      "Input \u001b[1;32mIn [9]\u001b[0m, in \u001b[0;36m<cell line: 37>\u001b[1;34m()\u001b[0m\n\u001b[0;32m     35\u001b[0m         root_widget\u001b[38;5;241m.\u001b[39madd_widget(clear_button)\n\u001b[0;32m     36\u001b[0m         \u001b[38;5;28;01mreturn\u001b[39;00m root_widget\n\u001b[1;32m---> 37\u001b[0m \u001b[43mmyApp\u001b[49m\u001b[43m(\u001b[49m\u001b[43m)\u001b[49m\u001b[38;5;241;43m.\u001b[39;49m\u001b[43mrun\u001b[49m\u001b[43m(\u001b[49m\u001b[43m)\u001b[49m\n",
      "File \u001b[1;32mF:\\Anaconda\\lib\\site-packages\\kivy\\app.py:955\u001b[0m, in \u001b[0;36mApp.run\u001b[1;34m(self)\u001b[0m\n\u001b[0;32m    952\u001b[0m \u001b[38;5;124;03m'''Launches the app in standalone mode.\u001b[39;00m\n\u001b[0;32m    953\u001b[0m \u001b[38;5;124;03m'''\u001b[39;00m\n\u001b[0;32m    954\u001b[0m \u001b[38;5;28mself\u001b[39m\u001b[38;5;241m.\u001b[39m_run_prepare()\n\u001b[1;32m--> 955\u001b[0m \u001b[43mrunTouchApp\u001b[49m\u001b[43m(\u001b[49m\u001b[43m)\u001b[49m\n\u001b[0;32m    956\u001b[0m \u001b[38;5;28mself\u001b[39m\u001b[38;5;241m.\u001b[39mstop()\n",
      "File \u001b[1;32mF:\\Anaconda\\lib\\site-packages\\kivy\\base.py:576\u001b[0m, in \u001b[0;36mrunTouchApp\u001b[1;34m(widget, embedded)\u001b[0m\n\u001b[0;32m    574\u001b[0m     EventLoop\u001b[38;5;241m.\u001b[39mmainloop()\n\u001b[0;32m    575\u001b[0m \u001b[38;5;28;01mfinally\u001b[39;00m:\n\u001b[1;32m--> 576\u001b[0m     \u001b[43mstopTouchApp\u001b[49m\u001b[43m(\u001b[49m\u001b[43m)\u001b[49m\n",
      "File \u001b[1;32mF:\\Anaconda\\lib\\site-packages\\kivy\\base.py:617\u001b[0m, in \u001b[0;36mstopTouchApp\u001b[1;34m()\u001b[0m\n\u001b[0;32m    615\u001b[0m     \u001b[38;5;28;01mreturn\u001b[39;00m\n\u001b[0;32m    616\u001b[0m Logger\u001b[38;5;241m.\u001b[39minfo(\u001b[38;5;124m'\u001b[39m\u001b[38;5;124mBase: Leaving application in progress...\u001b[39m\u001b[38;5;124m'\u001b[39m)\n\u001b[1;32m--> 617\u001b[0m \u001b[43mEventLoop\u001b[49m\u001b[38;5;241;43m.\u001b[39;49m\u001b[43mclose\u001b[49m\u001b[43m(\u001b[49m\u001b[43m)\u001b[49m\n",
      "File \u001b[1;32mF:\\Anaconda\\lib\\site-packages\\kivy\\base.py:198\u001b[0m, in \u001b[0;36mEventLoopBase.close\u001b[1;34m(self)\u001b[0m\n\u001b[0;32m    195\u001b[0m \u001b[38;5;124;03m'''Exit from the main loop and stop all configured\u001b[39;00m\n\u001b[0;32m    196\u001b[0m \u001b[38;5;124;03minput providers.'''\u001b[39;00m\n\u001b[0;32m    197\u001b[0m \u001b[38;5;28mself\u001b[39m\u001b[38;5;241m.\u001b[39mquit \u001b[38;5;241m=\u001b[39m \u001b[38;5;28;01mTrue\u001b[39;00m\n\u001b[1;32m--> 198\u001b[0m \u001b[38;5;28;43mself\u001b[39;49m\u001b[38;5;241;43m.\u001b[39;49m\u001b[43mstop\u001b[49m\u001b[43m(\u001b[49m\u001b[43m)\u001b[49m\n\u001b[0;32m    199\u001b[0m \u001b[38;5;28mself\u001b[39m\u001b[38;5;241m.\u001b[39mstatus \u001b[38;5;241m=\u001b[39m \u001b[38;5;124m'\u001b[39m\u001b[38;5;124mclosed\u001b[39m\u001b[38;5;124m'\u001b[39m\n",
      "File \u001b[1;32mF:\\Anaconda\\lib\\site-packages\\kivy\\base.py:216\u001b[0m, in \u001b[0;36mEventLoopBase.stop\u001b[1;34m(self)\u001b[0m\n\u001b[0;32m    211\u001b[0m \u001b[38;5;66;03m# XXX stop in reverse order that we started them!! (like push\u001b[39;00m\n\u001b[0;32m    212\u001b[0m \u001b[38;5;66;03m# pop), very important because e.g. wm_touch and WM_PEN both\u001b[39;00m\n\u001b[0;32m    213\u001b[0m \u001b[38;5;66;03m# store old window proc and the restore, if order is messed big\u001b[39;00m\n\u001b[0;32m    214\u001b[0m \u001b[38;5;66;03m# problem happens, crashing badly without error\u001b[39;00m\n\u001b[0;32m    215\u001b[0m \u001b[38;5;28;01mfor\u001b[39;00m provider \u001b[38;5;129;01min\u001b[39;00m \u001b[38;5;28mreversed\u001b[39m(\u001b[38;5;28mself\u001b[39m\u001b[38;5;241m.\u001b[39minput_providers[:]):\n\u001b[1;32m--> 216\u001b[0m     \u001b[43mprovider\u001b[49m\u001b[38;5;241;43m.\u001b[39;49m\u001b[43mstop\u001b[49m\u001b[43m(\u001b[49m\u001b[43m)\u001b[49m\n\u001b[0;32m    217\u001b[0m     \u001b[38;5;28mself\u001b[39m\u001b[38;5;241m.\u001b[39mremove_input_provider(provider)\n\u001b[0;32m    219\u001b[0m \u001b[38;5;66;03m# ensure any restart will not break anything later.\u001b[39;00m\n",
      "File \u001b[1;32mF:\\Anaconda\\lib\\site-packages\\kivy\\input\\providers\\wm_pen.py:119\u001b[0m, in \u001b[0;36mWM_PenProvider.stop\u001b[1;34m(self)\u001b[0m\n\u001b[0;32m    117\u001b[0m \u001b[38;5;28;01mdef\u001b[39;00m \u001b[38;5;21mstop\u001b[39m(\u001b[38;5;28mself\u001b[39m):\n\u001b[0;32m    118\u001b[0m     \u001b[38;5;28mself\u001b[39m\u001b[38;5;241m.\u001b[39mpen \u001b[38;5;241m=\u001b[39m \u001b[38;5;28;01mNone\u001b[39;00m\n\u001b[1;32m--> 119\u001b[0m     SetWindowLong_WndProc_wrapper(\u001b[38;5;28;43mself\u001b[39;49m\u001b[38;5;241;43m.\u001b[39;49m\u001b[43mhwnd\u001b[49m, \u001b[38;5;28mself\u001b[39m\u001b[38;5;241m.\u001b[39mold_windProc)\n",
      "\u001b[1;31mAttributeError\u001b[0m: 'WM_PenProvider' object has no attribute 'hwnd'"
     ]
    }
   ],
   "source": [
    "class myApp(App):\n",
    "    def build(self):\n",
    "        root_widget = BoxLayout(orientation='vertical')\n",
    "        output_label = Label(size_hint_y = 0.75, font_size=50)\n",
    "        button_symbols = ('1', '2', '3', '+',\n",
    "                          '4', '5', '6', '-',\n",
    "                          '7', '8', '9', '.',\n",
    "                          '0', '*', '/', '=')\n",
    "        button_grid = GridLayout(cols=4, size_hint_y=2)\n",
    "        for symbol in button_symbols:\n",
    "            button_grid.add_widget(Button(text=symbol))\n",
    "\n",
    "        clear_button = Button(text = 'Clear', size_hint_y=None, height=100)\n",
    "        def print_button_text(instance):\n",
    "            output_label.text += instance.text\n",
    "        for button in button_grid.children[1:]:\n",
    "            button.bind(on_press=print_button_text)\n",
    "        def resize_label_text(label, new_height):\n",
    "            label.fontsize = 0.5*label.height\n",
    "        output_label.bind(height=resize_label_text)\n",
    "\n",
    "        def evaluate_result(instance):\n",
    "            try:\n",
    "                output_label.text = str(eval(output_label.text))\n",
    "            except SyntaxError:\n",
    "                output_label.text = 'Python Syntax error!'\n",
    "        button_grid.children[0].bind(on_press=evaluate_result)\n",
    "\n",
    "        def clear_label(instance):\n",
    "            output_label.text = \" \"\n",
    "        clear_button.bind(on_press=clear_label)\n",
    "\n",
    "        root_widget.add_widget(output_label)\n",
    "        root_widget.add_widget(button_grid)\n",
    "        root_widget.add_widget(clear_button)\n",
    "        return root_widget\n",
    "myApp().run()"
   ]
  },
  {
   "cell_type": "code",
   "execution_count": null,
   "id": "04314a68",
   "metadata": {},
   "outputs": [],
   "source": []
  }
 ],
 "metadata": {
  "kernelspec": {
   "display_name": "Python 3 (ipykernel)",
   "language": "python",
   "name": "python3"
  },
  "language_info": {
   "codemirror_mode": {
    "name": "ipython",
    "version": 3
   },
   "file_extension": ".py",
   "mimetype": "text/x-python",
   "name": "python",
   "nbconvert_exporter": "python",
   "pygments_lexer": "ipython3",
   "version": "3.9.12"
  }
 },
 "nbformat": 4,
 "nbformat_minor": 5
}
